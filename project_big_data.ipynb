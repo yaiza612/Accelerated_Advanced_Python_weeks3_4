{
  "cells": [
    {
      "cell_type": "markdown",
      "metadata": {
        "id": "view-in-github",
        "colab_type": "text"
      },
      "source": [
        "<a href=\"https://colab.research.google.com/github/yaiza612/Accelerated_Advanced_Python_weeks3_4/blob/master/project_big_data.ipynb\" target=\"_parent\"><img src=\"https://colab.research.google.com/assets/colab-badge.svg\" alt=\"Open In Colab\"/></a>"
      ]
    },
    {
      "cell_type": "markdown",
      "metadata": {
        "id": "cOzYU8g5VnrG"
      },
      "source": [
        "AUTHORS: YAIZA ARNÁIZ ALCÁCER, PABLO IGNACIO MARCOS LÓPEZ, LEXANE LOUIS\n",
        "\n",
        "\n",
        "\n",
        "\n"
      ]
    },
    {
      "cell_type": "markdown",
      "metadata": {
        "id": "fZKVoDrQVgN0"
      },
      "source": [
        "# Definition of the environment"
      ]
    },
    {
      "cell_type": "markdown",
      "metadata": {
        "id": "CMh9VCoUUG1l"
      },
      "source": [
        "**INITALIZATION OF SPARK AND IMPORTATION OF THE LIBRARIES**"
      ]
    },
    {
      "cell_type": "code",
      "execution_count": 18,
      "metadata": {
        "colab": {
          "base_uri": "https://localhost:8080/"
        },
        "id": "H1b71XxWRvZN",
        "outputId": "dafe1da0-ebdd-4933-9094-758b8ce04628"
      },
      "outputs": [
        {
          "output_type": "stream",
          "name": "stdout",
          "text": [
            "openjdk version \"1.8.0_312\"\n",
            "OpenJDK Runtime Environment (build 1.8.0_312-8u312-b07-0ubuntu1~18.04-b07)\n",
            "OpenJDK 64-Bit Server VM (build 25.312-b07, mixed mode)\n"
          ]
        }
      ],
      "source": [
        "# Install jdk8\n",
        "!apt-get install openjdk-8-jdk-headless -qq > /dev/null\n",
        "import os\n",
        "# Set environment variable JAVA_HOME.\n",
        "os.environ[\"JAVA_HOME\"] = \"/usr/lib/jvm/java-8-openjdk-amd64\"\n",
        "!update-alternatives --set java /usr/lib/jvm/java-8-openjdk-amd64/jre/bin/java\n",
        "!java -version"
      ]
    },
    {
      "cell_type": "code",
      "execution_count": 16,
      "metadata": {
        "id": "wFI__sqinEWZ"
      },
      "outputs": [],
      "source": [
        "import sys\n",
        "\n",
        "# Set current python version\n",
        "python_version = f\"3.7.10\""
      ]
    },
    {
      "cell_type": "code",
      "execution_count": 17,
      "metadata": {
        "colab": {
          "base_uri": "https://localhost:8080/"
        },
        "id": "raQSHj3aljzF",
        "outputId": "ade8ee53-f69d-4554-861c-cf84a3a9a9d5"
      },
      "outputs": [
        {
          "output_type": "stream",
          "name": "stdout",
          "text": [
            "--2022-02-05 23:00:54--  https://repo.continuum.io/miniconda/Miniconda3-4.5.4-Linux-x86_64.sh\n",
            "Resolving repo.continuum.io (repo.continuum.io)... 104.18.201.79, 104.18.200.79, 2606:4700::6812:c94f, ...\n",
            "Connecting to repo.continuum.io (repo.continuum.io)|104.18.201.79|:443... connected.\n",
            "HTTP request sent, awaiting response... 301 Moved Permanently\n",
            "Location: https://repo.anaconda.com/miniconda/Miniconda3-4.5.4-Linux-x86_64.sh [following]\n",
            "--2022-02-05 23:00:54--  https://repo.anaconda.com/miniconda/Miniconda3-4.5.4-Linux-x86_64.sh\n",
            "Resolving repo.anaconda.com (repo.anaconda.com)... 104.16.130.3, 104.16.131.3, 2606:4700::6810:8203, ...\n",
            "Connecting to repo.anaconda.com (repo.anaconda.com)|104.16.130.3|:443... connected.\n",
            "HTTP request sent, awaiting response... 200 OK\n",
            "Length: 58468498 (56M) [application/x-sh]\n",
            "Saving to: ‘Miniconda3-4.5.4-Linux-x86_64.sh.2’\n",
            "\n",
            "Miniconda3-4.5.4-Li 100%[===================>]  55.76M   250MB/s    in 0.2s    \n",
            "\n",
            "2022-02-05 23:00:54 (250 MB/s) - ‘Miniconda3-4.5.4-Linux-x86_64.sh.2’ saved [58468498/58468498]\n",
            "\n",
            "PREFIX=/usr/local\n",
            "installing: python-3.6.5-hc3d631a_2 ...\n",
            "Python 3.6.5 :: Anaconda, Inc.\n",
            "installing: ca-certificates-2018.03.07-0 ...\n",
            "installing: conda-env-2.6.0-h36134e3_1 ...\n",
            "installing: libgcc-ng-7.2.0-hdf63c60_3 ...\n",
            "installing: libstdcxx-ng-7.2.0-hdf63c60_3 ...\n",
            "installing: libffi-3.2.1-hd88cf55_4 ...\n",
            "installing: ncurses-6.1-hf484d3e_0 ...\n",
            "installing: openssl-1.0.2o-h20670df_0 ...\n",
            "installing: tk-8.6.7-hc745277_3 ...\n",
            "installing: xz-5.2.4-h14c3975_4 ...\n",
            "installing: yaml-0.1.7-had09818_2 ...\n",
            "installing: zlib-1.2.11-ha838bed_2 ...\n",
            "installing: libedit-3.1.20170329-h6b74fdf_2 ...\n",
            "installing: readline-7.0-ha6073c6_4 ...\n",
            "installing: sqlite-3.23.1-he433501_0 ...\n",
            "installing: asn1crypto-0.24.0-py36_0 ...\n",
            "installing: certifi-2018.4.16-py36_0 ...\n",
            "installing: chardet-3.0.4-py36h0f667ec_1 ...\n",
            "installing: idna-2.6-py36h82fb2a8_1 ...\n",
            "installing: pycosat-0.6.3-py36h0a5515d_0 ...\n",
            "installing: pycparser-2.18-py36hf9f622e_1 ...\n",
            "installing: pysocks-1.6.8-py36_0 ...\n",
            "installing: ruamel_yaml-0.15.37-py36h14c3975_2 ...\n",
            "installing: six-1.11.0-py36h372c433_1 ...\n",
            "installing: cffi-1.11.5-py36h9745a5d_0 ...\n",
            "installing: setuptools-39.2.0-py36_0 ...\n",
            "installing: cryptography-2.2.2-py36h14c3975_0 ...\n",
            "installing: wheel-0.31.1-py36_0 ...\n",
            "installing: pip-10.0.1-py36_0 ...\n",
            "installing: pyopenssl-18.0.0-py36_0 ...\n",
            "installing: urllib3-1.22-py36hbe7ace6_0 ...\n",
            "installing: requests-2.18.4-py36he2e5f8d_1 ...\n",
            "installing: conda-4.5.4-py36_0 ...\n",
            "unlinking: ca-certificates-2021.10.26-h06a4308_2\n",
            "unlinking: certifi-2021.10.8-py39h06a4308_2\n",
            "unlinking: cffi-1.15.0-py39hd667e15_1\n",
            "unlinking: conda-4.11.0-py39h06a4308_0\n",
            "unlinking: cryptography-36.0.0-py39h9ce1e76_0\n",
            "unlinking: idna-3.3-pyhd3eb1b0_0\n",
            "unlinking: libffi-3.3-he6710b0_2\n",
            "unlinking: libgcc-ng-9.3.0-h5101ec6_17\n",
            "unlinking: libstdcxx-ng-9.3.0-hd4cf53a_17\n",
            "unlinking: ncurses-6.3-h7f8727e_2\n",
            "unlinking: openssl-1.1.1m-h7f8727e_0\n",
            "unlinking: pip-21.2.4-py39h06a4308_0\n",
            "unlinking: pycosat-0.6.3-py39h27cfd23_0\n",
            "unlinking: pycparser-2.21-pyhd3eb1b0_0\n",
            "unlinking: pyopenssl-22.0.0-pyhd3eb1b0_0\n",
            "unlinking: pysocks-1.7.1-py39h06a4308_0\n",
            "unlinking: python-3.9.7-h12debd9_1\n",
            "unlinking: readline-8.1.2-h7f8727e_1\n",
            "unlinking: requests-2.27.1-pyhd3eb1b0_0\n",
            "unlinking: ruamel_yaml-0.15.100-py39h27cfd23_0\n",
            "unlinking: setuptools-58.0.4-py39h06a4308_0\n",
            "unlinking: six-1.16.0-pyhd3eb1b0_0\n",
            "unlinking: sqlite-3.37.0-hc218d9a_0\n",
            "unlinking: tk-8.6.11-h1ccaba5_0\n",
            "unlinking: urllib3-1.26.8-pyhd3eb1b0_0\n",
            "unlinking: wheel-0.37.1-pyhd3eb1b0_0\n",
            "unlinking: xz-5.2.5-h7b6447c_0\n",
            "unlinking: yaml-0.2.5-h7b6447c_0\n",
            "unlinking: zlib-1.2.11-h7f8727e_4\n",
            "installation finished.\n",
            "WARNING:\n",
            "    You currently have a PYTHONPATH environment variable set. This may cause\n",
            "    unexpected behavior when running the Python interpreter in Miniconda3.\n",
            "    For best results, please verify that your PYTHONPATH only points to\n",
            "    directories of packages that are compatible with the Python interpreter\n",
            "    in Miniconda3: /usr/local\n",
            "Solving environment: - \b\b\\ \b\b| \b\b/ \b\b- \b\b\\ \b\b| \b\b/ \b\b- \b\b\\ \b\b| \b\b/ \b\b- \b\b\\ \b\b| \b\b/ \b\b- \b\b\\ \b\b| \b\b/ \b\b- \b\b\\ \b\b| \b\b/ \b\b- \b\b\\ \b\b| \b\b/ \b\b- \b\b\\ \b\b| \b\b/ \b\b- \b\b\\ \b\b| \b\b/ \b\b- \b\b\\ \b\b| \b\b/ \b\b- \b\b\\ \b\b| \b\b/ \b\b- \b\b\\ \b\b| \b\b/ \b\b- \b\b\\ \b\b| \b\b/ \b\b- \b\b\\ \b\b| \b\b/ \b\b- \b\b\\ \b\b| \b\b/ \b\b- \b\b\\ \b\b| \b\b/ \b\b- \b\b\\ \b\b| \b\b/ \b\b- \b\b\\ \b\b| \b\b/ \b\b- \b\b\\ \b\b| \b\b/ \b\b- \b\b\\ \b\b| \b\b/ \b\b- \b\b\\ \b\b| \b\b/ \b\b- \b\b\\ \b\b| \b\b/ \b\b- \b\b\\ \b\b| \b\b/ \b\b- \b\b\\ \b\b| \b\b/ \b\b- \b\b\\ \b\b| \b\b/ \b\b- \b\b\\ \b\b| \b\b/ \b\b- \b\b\\ \b\b| \b\b/ \b\b- \b\b\\ \b\b| \b\b/ \b\b- \b\b\\ \b\b| \b\b/ \b\b- \b\b\\ \b\b| \b\b/ \b\b- \b\b\\ \b\b| \b\b/ \b\b- \b\b\\ \b\b| \b\b/ \b\b- \b\b\\ \b\b| \b\b/ \b\b- \b\b\\ \b\b| \b\b/ \b\b- \b\b\\ \b\b| \b\b/ \b\b- \b\b\\ \b\b| \b\b/ \b\b- \b\b\\ \b\b| \b\b/ \b\b- \b\b\\ \b\b| \b\b/ \b\b- \b\b\\ \b\b| \b\b/ \b\b- \b\b\\ \b\b| \b\b/ \b\b- \b\b\\ \b\b| \b\b/ \b\b- \b\b\\ \b\b| \b\b/ \b\b- \b\b\\ \b\b| \b\b/ \b\b- \b\b\\ \b\b| \b\b/ \b\b- \b\b\\ \b\b| \b\b/ \b\b- \b\b\\ \b\b| \b\b/ \b\b- \b\b\\ \b\b| \b\b/ \b\b- \b\b\\ \b\b| \b\b/ \b\b- \b\b\\ \b\b| \b\b/ \b\b- \b\b\\ \b\b| \b\b/ \b\b- \b\b\\ \b\b| \b\b/ \b\b- \b\b\\ \b\b| \b\b/ \b\b- \b\b\\ \b\b| \b\b/ \b\b- \b\b\\ \b\b| \b\b/ \b\b- \b\b\\ \b\b| \b\b/ \b\b- \b\b\\ \b\b| \b\b/ \b\b- \b\b\\ \b\b| \b\b/ \b\b- \b\b\\ \b\b| \b\b/ \b\b- \b\b\\ \b\b| \b\b/ \b\b- \b\b\\ \b\b| \b\b/ \b\b- \b\b\\ \b\b| \b\b/ \b\bdone\n",
            "\n",
            "## Package Plan ##\n",
            "\n",
            "  environment location: /usr/local\n",
            "\n",
            "  added / updated specs: \n",
            "    - conda\n",
            "    - python=3.7.10\n",
            "\n",
            "\n",
            "The following packages will be downloaded:\n",
            "\n",
            "    package                    |            build\n",
            "    ---------------------------|-----------------\n",
            "    ruamel_yaml-0.15.87        |   py37h7b6447c_0         271 KB\n",
            "    chardet-4.0.0              |py37h06a4308_1003         205 KB\n",
            "    ------------------------------------------------------------\n",
            "                                           Total:         476 KB\n",
            "\n",
            "The following packages will be UPDATED:\n",
            "\n",
            "    asn1crypto:             0.24.0-py36_0           --> 1.4.0-py_0              \n",
            "    brotlipy:               0.7.0-py39h27cfd23_1003 --> 0.7.0-py37h27cfd23_1003 \n",
            "    ca-certificates:        2018.03.07-0            --> 2021.10.26-h06a4308_2   \n",
            "    certifi:                2018.4.16-py36_0        --> 2021.10.8-py37h06a4308_2\n",
            "    cffi:                   1.11.5-py36h9745a5d_0   --> 1.15.0-py37hd667e15_1   \n",
            "    chardet:                3.0.4-py36h0f667ec_1    --> 4.0.0-py37h06a4308_1003 \n",
            "    charset-normalizer:     2.0.4-pyhd3eb1b0_0      --> 2.0.4-pyhd3eb1b0_0      \n",
            "    conda:                  4.5.4-py36_0            --> 4.11.0-py37h06a4308_0   \n",
            "    conda-package-handling: 1.7.3-py39h27cfd23_1    --> 1.7.3-py37h27cfd23_1    \n",
            "    cryptography:           2.2.2-py36h14c3975_0    --> 36.0.0-py37h9ce1e76_0   \n",
            "    idna:                   2.6-py36h82fb2a8_1      --> 3.3-pyhd3eb1b0_0        \n",
            "    libffi:                 3.2.1-hd88cf55_4        --> 3.3-he6710b0_2          \n",
            "    libgcc-ng:              7.2.0-hdf63c60_3        --> 9.1.0-hdf63c60_0        \n",
            "    libstdcxx-ng:           7.2.0-hdf63c60_3        --> 9.1.0-hdf63c60_0        \n",
            "    ncurses:                6.1-hf484d3e_0          --> 6.3-h7f8727e_2          \n",
            "    openssl:                1.0.2o-h20670df_0       --> 1.1.1m-h7f8727e_0       \n",
            "    pip:                    10.0.1-py36_0           --> 21.2.2-py37h06a4308_0   \n",
            "    pycosat:                0.6.3-py36h0a5515d_0    --> 0.6.3-py37h27cfd23_0    \n",
            "    pycparser:              2.18-py36hf9f622e_1     --> 2.21-pyhd3eb1b0_0       \n",
            "    pyopenssl:              18.0.0-py36_0           --> 22.0.0-pyhd3eb1b0_0     \n",
            "    pysocks:                1.6.8-py36_0            --> 1.7.1-py37_1            \n",
            "    python:                 3.6.5-hc3d631a_2        --> 3.7.10-h12debd9_4       \n",
            "    readline:               7.0-ha6073c6_4          --> 8.1.2-h7f8727e_1        \n",
            "    requests:               2.18.4-py36he2e5f8d_1   --> 2.27.1-pyhd3eb1b0_0     \n",
            "    ruamel_yaml:            0.15.37-py36h14c3975_2  --> 0.15.87-py37h7b6447c_0  \n",
            "    setuptools:             39.2.0-py36_0           --> 58.0.4-py37h06a4308_0   \n",
            "    six:                    1.11.0-py36h372c433_1   --> 1.16.0-pyhd3eb1b0_0     \n",
            "    sqlite:                 3.23.1-he433501_0       --> 3.37.0-hc218d9a_0       \n",
            "    tk:                     8.6.7-hc745277_3        --> 8.6.11-h1ccaba5_0       \n",
            "    tqdm:                   4.62.3-pyhd3eb1b0_1     --> 4.62.3-pyhd3eb1b0_1     \n",
            "    urllib3:                1.22-py36hbe7ace6_0     --> 1.26.8-pyhd3eb1b0_0     \n",
            "    wheel:                  0.31.1-py36_0           --> 0.37.1-pyhd3eb1b0_0     \n",
            "    xz:                     5.2.4-h14c3975_4        --> 5.2.5-h7b6447c_0        \n",
            "\n",
            "\n",
            "Downloading and Extracting Packages\n",
            "ruamel_yaml-0.15.87  |  271 KB | : 100% 1.0/1 [00:00<00:00,  5.60it/s]               \n",
            "chardet-4.0.0        |  205 KB | : 100% 1.0/1 [00:00<00:00,  7.80it/s]\n",
            "Preparing transaction: \\ \b\b| \b\b/ \b\b- \b\bdone\n",
            "Verifying transaction: | \b\b/ \b\b- \b\b\\ \b\b| \b\b/ \b\b- \b\b\\ \b\b| \b\b/ \b\b- \b\b\\ \b\b| \b\b/ \b\b- \b\b\\ \b\b| \b\b/ \b\b- \b\b\\ \b\b| \b\b/ \b\b- \b\b\\ \b\b| \b\b/ \b\b- \b\b\\ \b\b| \b\b/ \b\b- \b\b\\ \b\b| \b\b/ \b\b- \b\b\\ \b\b| \b\b/ \b\b- \b\b\\ \b\b| \b\b/ \b\b- \b\bdone\n",
            "Executing transaction: | \b\b/ \b\b- \b\b\\ \b\b| \b\b/ \b\b- \b\b\\ \b\b| \b\b/ \b\b- \b\b\\ \b\b| \b\b/ \b\b- \b\b\\ \b\b| \b\b/ \b\b- \b\b\\ \b\b| \b\b/ \b\b- \b\b\\ \b\b| \b\b/ \b\b- \b\b\\ \b\b| \b\b/ \b\b- \b\b\\ \b\b| \b\b/ \b\b- \b\b\\ \b\b| \b\b/ \b\b- \b\b\\ \b\b| \b\b/ \b\b- \b\b\\ \b\b| \b\b/ \b\b- \b\b\\ \b\b| \b\b/ \b\b- \b\b\\ \b\b| \b\b/ \b\b- \b\b\\ \b\b| \b\b/ \b\b- \b\b\\ \b\b| \b\b/ \b\b- \b\b\\ \b\b| \b\b/ \b\b- \b\b\\ \b\b| \b\b/ \b\b- \b\b\\ \b\b| \b\b/ \b\b- \b\b\\ \b\b| \b\b/ \b\b- \b\b\\ \b\b| \b\b/ \b\b- \b\b\\ \b\b| \b\b/ \b\b- \b\b\\ \b\b| \b\b/ \b\b- \b\b\\ \b\b| \b\b/ \b\b- \b\b\\ \b\b| \b\bdone\n",
            "Collecting package metadata (current_repodata.json): - \b\b\\ \b\b| \b\b/ \b\b- \b\b\\ \b\bdone\n",
            "Solving environment: / \b\b- \b\b\\ \b\b| \b\bdone\n",
            "\n",
            "## Package Plan ##\n",
            "\n",
            "  environment location: /usr/local\n",
            "\n",
            "\n",
            "The following packages will be downloaded:\n",
            "\n",
            "    package                    |            build\n",
            "    ---------------------------|-----------------\n",
            "    ruamel_yaml-0.15.100       |   py37h27cfd23_0         253 KB\n",
            "    yaml-0.2.5                 |       h7b6447c_0          75 KB\n",
            "    ------------------------------------------------------------\n",
            "                                           Total:         328 KB\n",
            "\n",
            "The following packages will be REMOVED:\n",
            "\n",
            "  asn1crypto-1.4.0-py_0\n",
            "  chardet-4.0.0-py37h06a4308_1003\n",
            "  conda-env-2.6.0-h36134e3_1\n",
            "  libedit-3.1.20170329-h6b74fdf_2\n",
            "  tzdata-2021e-hda174b7_0\n",
            "\n",
            "The following packages will be UPDATED:\n",
            "\n",
            "  libgcc-ng                                9.1.0-hdf63c60_0 --> 9.3.0-h5101ec6_17\n",
            "  libstdcxx-ng                             9.1.0-hdf63c60_0 --> 9.3.0-hd4cf53a_17\n",
            "  python                                  3.7.10-h12debd9_4 --> 3.7.11-h12debd9_0\n",
            "  ruamel_yaml                        0.15.87-py37h7b6447c_0 --> 0.15.100-py37h27cfd23_0\n",
            "  yaml                                     0.1.7-had09818_2 --> 0.2.5-h7b6447c_0\n",
            "  zlib                                    1.2.11-ha838bed_2 --> 1.2.11-h7f8727e_4\n",
            "\n",
            "\n",
            "\n",
            "Downloading and Extracting Packages\n",
            "ruamel_yaml-0.15.100 | 253 KB    | : 100% 1.0/1 [00:00<00:00,  7.46it/s]\n",
            "yaml-0.2.5           | 75 KB     | : 100% 1.0/1 [00:00<00:00, 16.64it/s]\n",
            "Preparing transaction: - \b\bdone\n",
            "Verifying transaction: | \b\b/ \b\b- \b\b\\ \b\bdone\n",
            "Executing transaction: / \b\b- \b\b\\ \b\bdone\n"
          ]
        }
      ],
      "source": [
        "# Install Miniconda\n",
        "!wget https://repo.continuum.io/miniconda/Miniconda3-4.5.4-Linux-x86_64.sh\n",
        "!chmod +x Miniconda3-4.5.4-Linux-x86_64.sh\n",
        "!./Miniconda3-4.5.4-Linux-x86_64.sh -b -f -p /usr/local\n",
        "\n",
        "# Update Conda\n",
        "!conda install --channel defaults conda python=$python_version --yes\n",
        "!conda update --channel defaults --all --yes\n",
        "\n",
        "# Append to the sys.path\n",
        "_ = (sys.path\n",
        "        .append(f\"/usr/local/lib/python3.7/site-packages\"))\n",
        "\n",
        "os.environ['PYTHONHOME']=\"/usr/local\"\n",
        "\n"
      ]
    },
    {
      "cell_type": "code",
      "execution_count": 20,
      "metadata": {
        "colab": {
          "base_uri": "https://localhost:8080/"
        },
        "id": "DBWLmbYcxcKn",
        "outputId": "5fef0810-97f3-4b5c-eeb4-20c5f905b139"
      },
      "outputs": [
        {
          "output_type": "stream",
          "name": "stdout",
          "text": [
            "Requirement already satisfied: bigdl-orca in /usr/local/lib/python3.7/site-packages (0.14.0b20220205)\n",
            "Requirement already satisfied: bigdl-math==0.14.0.dev1 in /usr/local/lib/python3.7/site-packages (from bigdl-orca) (0.14.0.dev1)\n",
            "Requirement already satisfied: filelock in /usr/local/lib/python3.7/site-packages (from bigdl-orca) (3.4.2)\n",
            "Requirement already satisfied: conda-pack==0.3.1 in /usr/local/lib/python3.7/site-packages (from bigdl-orca) (0.3.1)\n",
            "Requirement already satisfied: bigdl-tf==0.14.0.dev1 in /usr/local/lib/python3.7/site-packages (from bigdl-orca) (0.14.0.dev1)\n",
            "Requirement already satisfied: bigdl-dllib==0.14.0b20220205 in /usr/local/lib/python3.7/site-packages (from bigdl-orca) (0.14.0b20220205)\n",
            "Requirement already satisfied: packaging in /usr/local/lib/python3.7/site-packages (from bigdl-orca) (21.3)\n",
            "Requirement already satisfied: pyzmq in /usr/local/lib/python3.7/site-packages (from bigdl-orca) (22.3.0)\n",
            "Requirement already satisfied: numpy>=1.19.5 in /usr/local/lib/python3.7/site-packages (from bigdl-dllib==0.14.0b20220205->bigdl-orca) (1.21.5)\n",
            "Requirement already satisfied: six>=1.10.0 in /usr/local/lib/python3.7/site-packages (from bigdl-dllib==0.14.0b20220205->bigdl-orca) (1.16.0)\n",
            "Requirement already satisfied: pyspark==2.4.6 in /usr/local/lib/python3.7/site-packages (from bigdl-dllib==0.14.0b20220205->bigdl-orca) (2.4.6)\n",
            "Requirement already satisfied: setuptools in /usr/local/lib/python3.7/site-packages (from conda-pack==0.3.1->bigdl-orca) (58.0.4)\n",
            "Requirement already satisfied: py4j==0.10.7 in /usr/local/lib/python3.7/site-packages (from pyspark==2.4.6->bigdl-dllib==0.14.0b20220205->bigdl-orca) (0.10.7)\n",
            "Requirement already satisfied: pyparsing!=3.0.5,>=2.0.2 in /usr/local/lib/python3.7/site-packages (from packaging->bigdl-orca) (3.0.7)\n",
            "\u001b[33mWARNING: Running pip as the 'root' user can result in broken permissions and conflicting behaviour with the system package manager. It is recommended to use a virtual environment instead: https://pip.pypa.io/warnings/venv\u001b[0m\n"
          ]
        }
      ],
      "source": [
        "# Install latest pre-release version of BigDL Orca \n",
        "# Installing BigDL Orca from pip will automatically install pyspark, bigdl, and their dependencies.\n",
        "!pip install --pre --upgrade bigdl-orca\n"
      ]
    },
    {
      "cell_type": "code",
      "execution_count": 3,
      "metadata": {
        "colab": {
          "base_uri": "https://localhost:8080/"
        },
        "id": "-VehCSB3lAf3",
        "outputId": "42cab224-3223-4d87-a6c3-f2a82b63d13c"
      },
      "outputs": [
        {
          "output_type": "stream",
          "name": "stdout",
          "text": [
            "Requirement already satisfied: torch==1.7.1 in /usr/local/lib/python3.7/site-packages (1.7.1)\n",
            "Requirement already satisfied: torchvision==0.8.2 in /usr/local/lib/python3.7/site-packages (0.8.2)\n",
            "Requirement already satisfied: numpy in /usr/local/lib/python3.7/site-packages (from torch==1.7.1) (1.21.5)\n",
            "Requirement already satisfied: typing-extensions in /usr/local/lib/python3.7/site-packages (from torch==1.7.1) (4.0.1)\n",
            "Requirement already satisfied: pillow>=4.1.1 in /usr/local/lib/python3.7/site-packages (from torchvision==0.8.2) (9.0.1)\n",
            "\u001b[33mWARNING: Running pip as the 'root' user can result in broken permissions and conflicting behaviour with the system package manager. It is recommended to use a virtual environment instead: https://pip.pypa.io/warnings/venv\u001b[0m\n",
            "Requirement already satisfied: six in /usr/local/lib/python3.7/site-packages (1.16.0)\n",
            "Requirement already satisfied: cloudpickle in /usr/local/lib/python3.7/site-packages (2.0.0)\n",
            "\u001b[33mWARNING: Running pip as the 'root' user can result in broken permissions and conflicting behaviour with the system package manager. It is recommended to use a virtual environment instead: https://pip.pypa.io/warnings/venv\u001b[0m\n",
            "Requirement already satisfied: jep==3.9.0 in /usr/local/lib/python3.7/site-packages (3.9.0)\n",
            "\u001b[33mWARNING: Running pip as the 'root' user can result in broken permissions and conflicting behaviour with the system package manager. It is recommended to use a virtual environment instead: https://pip.pypa.io/warnings/venv\u001b[0m\n",
            "Collecting pyspark==2.3.0\n",
            "  Downloading pyspark-2.3.0.tar.gz (211.9 MB)\n",
            "\u001b[K     |████████████████████████████████| 211.9 MB 62 kB/s \n",
            "\u001b[?25hCollecting py4j==0.10.6\n",
            "  Downloading py4j-0.10.6-py2.py3-none-any.whl (189 kB)\n",
            "\u001b[K     |████████████████████████████████| 189 kB 50.4 MB/s \n",
            "\u001b[?25hBuilding wheels for collected packages: pyspark\n",
            "  Building wheel for pyspark (setup.py) ... \u001b[?25l\u001b[?25hdone\n",
            "  Created wheel for pyspark: filename=pyspark-2.3.0-py2.py3-none-any.whl size=212271918 sha256=4d310fb29cbc99682bb0ce95809f826e46610490911f2436d9d9dcfbf42c8e5e\n",
            "  Stored in directory: /root/.cache/pip/wheels/c0/ed/08/40a6e0c03e6564ebe4e757a6081779570dd81f73a5817789e6\n",
            "Successfully built pyspark\n",
            "Installing collected packages: py4j, pyspark\n",
            "  Attempting uninstall: py4j\n",
            "    Found existing installation: py4j 0.10.7\n",
            "    Uninstalling py4j-0.10.7:\n",
            "      Successfully uninstalled py4j-0.10.7\n",
            "  Attempting uninstall: pyspark\n",
            "    Found existing installation: pyspark 2.4.6\n",
            "    Uninstalling pyspark-2.4.6:\n",
            "      Successfully uninstalled pyspark-2.4.6\n",
            "\u001b[31mERROR: pip's dependency resolver does not currently take into account all the packages that are installed. This behaviour is the source of the following dependency conflicts.\n",
            "bigdl-dllib 0.14.0b20220205 requires pyspark==2.4.6, but you have pyspark 2.3.0 which is incompatible.\u001b[0m\n",
            "Successfully installed py4j-0.10.6 pyspark-2.3.0\n",
            "\u001b[33mWARNING: Running pip as the 'root' user can result in broken permissions and conflicting behaviour with the system package manager. It is recommended to use a virtual environment instead: https://pip.pypa.io/warnings/venv\u001b[0m\n"
          ]
        }
      ],
      "source": [
        "# Install python dependencies\n",
        "!pip install torch==1.7.1 torchvision==0.8.2\n",
        "!pip install six cloudpickle\n",
        "!pip install jep==3.9.0\n",
        "# try answer to java server connexion error of stack overflow\n",
        "!pip install pyspark==2.3.0"
      ]
    },
    {
      "cell_type": "code",
      "execution_count": 2,
      "metadata": {
        "id": "FCK36DcnR1Fo",
        "colab": {
          "base_uri": "https://localhost:8080/"
        },
        "outputId": "cb8d64d1-ccbc-42c9-b55b-59a832279d20"
      },
      "outputs": [
        {
          "output_type": "stream",
          "name": "stdout",
          "text": [
            "Drive already mounted at /content/drive; to attempt to forcibly remount, call drive.mount(\"/content/drive\", force_remount=True).\n"
          ]
        }
      ],
      "source": [
        "from google.colab import drive\n",
        "drive.mount('/content/drive')"
      ]
    },
    {
      "cell_type": "markdown",
      "metadata": {
        "id": "W1tbe_azR3Df"
      },
      "source": [
        "# **PNEUMONIA IDENTIFICATION FROM X-RAY IMAGES**"
      ]
    },
    {
      "cell_type": "markdown",
      "metadata": {
        "id": "CUrqsOf0SHIf"
      },
      "source": [
        "AUTHORS: Yaiza Arnáiz Alcácer, put here your names"
      ]
    },
    {
      "cell_type": "markdown",
      "metadata": {
        "id": "-WItKrNzShng"
      },
      "source": [
        "The aim of our code is classify chest ray images to provide a diagnosis of bacterial pneumonia o viral pneumonia. \n",
        "The interpretation of the X-ray images it is a bottleneck in the hospitals, and different classificators for these type of images are needed.\n",
        " "
      ]
    },
    {
      "cell_type": "markdown",
      "metadata": {
        "id": "SLIXECG_UTya"
      },
      "source": [
        "## 1.  INTRODUCTION TO PNEUMONIA\n"
      ]
    },
    {
      "cell_type": "markdown",
      "metadata": {
        "id": "O6n__4vYXwzu"
      },
      "source": [
        "Pneumonia is an infection of the air sacs in one (unilateral) or both the lungs (bilateral). Characterized by severe cough with phlegm, fever, chills and difficulty in breathing.\n",
        "\n",
        "This infection can be bacterial, viral (including COVID-19) or fungal and causes the alveoli to fill up with fluid or pus. \n",
        "\n",
        "**Symptoms**\n",
        "\n",
        "The signs and symptoms of pneumonia vary from mild to severe, depending on factors such as the type of germ causing the infection, and your age and overall health. Mild signs and symptoms often are similar to those of a cold or flu, but they last longer.\n",
        "\n",
        "Signs and symptoms of pneumonia may include:\n",
        "\n",
        "* Chest pain when you breathe or cough\n",
        "* Confusion or changes in mental awareness (in adults age 65 and older)\n",
        "* Cough, which may produce phlegm\n",
        "* Fatigue\n",
        "* Fever, sweating and shaking chills\n",
        "* Lower than normal body temperature (in adults older than age 65 and people with weak immune systems)\n",
        "* Nausea, vomiting or diarrhea\n",
        "* Shortness of breath\n",
        "\n",
        "Newborns and infants may not show any sign of the infection. Or they may vomit, have a fever and cough, appear restless or tired and without energy, or have difficulty breathing and eating.\n",
        "\n",
        "**Risk Factors**\n",
        "\n",
        "* Childrem under 2 years old or younger\n",
        "* People who are age 65 or older\n",
        "* Being hospitalized, specially if you are connected to a ventilator\n",
        "* Smocking\n",
        "* Chronic disease such as asthma or heart disease\n",
        "* Weakened or suppresed immune system \n",
        "\n",
        "**Diagnosis** \n",
        "\n",
        "* Blood test to confirm an infection and try to identify the type of organism that caused pneumonia. \n",
        "\n",
        "* Chest X-ray to determine the extent and location of the infection\n",
        "\n",
        "* Pulse oximetry to measure the oxygen level in your blood. \n",
        "\n",
        "* Sputum test to get a sample of fluid from your lungs. \n",
        "\n",
        "In case of a more serious condition, it is possible realize as wel CT scan or pleural fluid culture. \n",
        "\n",
        "\n",
        "**Treatment**\n",
        "\n",
        "* Antibiotics to treat bacterial pneumonia. \n",
        "* Cough medicine\n",
        "* Fever reducers\n"
      ]
    },
    {
      "cell_type": "markdown",
      "metadata": {
        "id": "CL-8-3ZtUd7u"
      },
      "source": [
        "## 2. CURRENT STATE OF THE ART FOR CLASSIFICATION OF X_RAY IMAGES"
      ]
    },
    {
      "cell_type": "markdown",
      "metadata": {
        "id": "rObVCoG_Yohj"
      },
      "source": [
        "During the current pandemy of COVID-19 these Deep Learning models of X-ray images were research intensively to find a model with enough accuracy, recall and precision for the detection of COVID-19 using Chest X-ray without human supervision.\n",
        "\n",
        "The reason is that due to the over-increasing number of cases of COVID-19 infection, it is becoming more difficult for radiologists to keep up with this demand. As it was mention before, the diagnostic of Pneumonia by X-ray is the bottleneck of a lot of hospitals, and in the current situation it is needed more than ever a solution for this problem. \n",
        "\n",
        "Therefore, we could find out in the literature a model with a recall, accuracy and precision superior to 99% for Chest X-ray classification: https://doi.org/10.1016/j.asoc.2020.106859\n",
        "\n",
        "The model they use is InstaCovNet-19, which is an stacked model that use Iception, NASnet, Xception, MobileNetV2 and ResNet, all of then models of image classification. \n",
        "\n",
        "![structure of the model.jpg](data:image/jpeg;base64,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)\n",
        "\n"
      ]
    },
    {
      "cell_type": "markdown",
      "metadata": {
        "id": "A7VPP_EokzBR"
      },
      "source": [
        "**We would like to consider as well the tranferlearning to try out this model (InstaCovNet-19) but the code it is not available. \n",
        "But since the paper introduce the idea of improve the X-chest ray image classification by integration stacking of neural networks already known as good models, we will explore it by designing our own model in Spark with integrated stacking.**"
      ]
    },
    {
      "cell_type": "markdown",
      "metadata": {
        "id": "hCEgE6bSUsr8"
      },
      "source": [
        "## 3. DATASET DESCRIPTION"
      ]
    },
    {
      "cell_type": "markdown",
      "metadata": {
        "id": "77dEWvEbW9CK"
      },
      "source": [
        "The dataset can be found her: https://data.mendeley.com/datasets/rscbjbr9sj/2?__hstc=25856994.9a09a91357a104706292fa960434cfb0.1643116296328.1643116296328.1643116296328.1&__hssc=25856994.1.1643116296328&__hsfp=4215451866\n",
        "\n",
        "It is used in this paper: https://www.cell.com/cell/fulltext/S0092-8674(18)30154-5 to be classified by using ImageNet. \n",
        "\n",
        "The dataset is organized ito 3 folders: Train, test and validation.\n",
        "It contains subfolders of each image category: Pneumonia and normal. \n",
        "\n",
        "Chest X-ray images (anterior-posterior) were selected from retrospective cohorts of pediatric patients of one to five years old from Guangzhou Women and Children’s Medical Center, Guangzhou. All chest X-ray imaging was performed as part of patients’ routine clinical care.\n",
        "\n",
        "For the analysis of chest x-ray images, all chest radiographs were initially screened for quality control by removing all low quality or unreadable scans. The diagnoses for the images were then graded by two expert physicians before being cleared for training the AI system. In order to account for any grading errors, the evaluation set was also checked by a third expert."
      ]
    },
    {
      "cell_type": "markdown",
      "metadata": {
        "id": "UzTHhgKEXyFb"
      },
      "source": [
        "![dataset_big.png](data:image/png;base64,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)"
      ]
    },
    {
      "cell_type": "code",
      "execution_count": null,
      "metadata": {
        "id": "lbG-vuTopVj1"
      },
      "outputs": [],
      "source": [
        "#!unzip /content/drive/MyDrive/Colab_Notebooks/archive.zip -d /content/drive/MyDrive/Colab_Notebooks/"
      ]
    },
    {
      "cell_type": "code",
      "execution_count": 4,
      "metadata": {
        "id": "VUTfSLztf7Uw"
      },
      "outputs": [],
      "source": [
        "# Define the path to the different folders:\n",
        "\n",
        "test_path = '/content/drive/MyDrive/Colab_Notebooks/chest_xray/test'\n",
        "train_path = '/content/drive/MyDrive/Colab_Notebooks/chest_xray/train'\n",
        "validation_path = '/content/drive/MyDrive/Colab_Notebooks/chest_xray/val'"
      ]
    },
    {
      "cell_type": "markdown",
      "metadata": {
        "id": "SJYqtotEUzXU"
      },
      "source": [
        "## 4. DATA PRE-PROCESSING"
      ]
    },
    {
      "cell_type": "code",
      "execution_count": 5,
      "metadata": {
        "id": "no9Dc-8ERFvr"
      },
      "outputs": [],
      "source": [
        "import torch\n",
        "import torch.nn as nn\n",
        "import torch.optim as optim\n",
        "import torch.nn.functional as F\n",
        "import torchvision\n",
        "import torchvision.models as models\n",
        "import torchvision.transforms as T\n"
      ]
    },
    {
      "cell_type": "markdown",
      "metadata": {
        "id": "A07A1wEvvKOH"
      },
      "source": [
        "We want to realize the following preprocessing: \n",
        "\n",
        "* CenterCrop - resizes the image to 224 x 224 \n",
        "* RandomFlip - Randomly flips 50% of the image horizontally \n",
        "* ColorJitter- Randomly adjust the brigthness of 50% of the images\n",
        "* Normalize - Normalize the images \n"
      ]
    },
    {
      "cell_type": "code",
      "execution_count": 6,
      "metadata": {
        "id": "kWnjM9btbMYE"
      },
      "outputs": [],
      "source": [
        "def custom_transform(sample):\n",
        "  transformer = torchvision.transforms.Compose([T.CenterCrop(size=(299, 299)), T.ToTensor(), T.RandomHorizontalFlip(p=0.5), \n",
        "                                  T.ColorJitter(brightness=0.5, hue=0), \n",
        "                                  T.Normalize((0.5,), (0.5,)),])\n",
        "  return transformer(sample[\"image\"]), sample[\"label\"]"
      ]
    },
    {
      "cell_type": "markdown",
      "metadata": {
        "id": "SgImfD6FVZ9o"
      },
      "source": [
        "We create the datasets:"
      ]
    },
    {
      "cell_type": "code",
      "execution_count": 7,
      "metadata": {
        "id": "_Au8knKLWA6d"
      },
      "outputs": [],
      "source": [
        "from torch.utils.data import Dataset, DataLoader\n",
        "import numpy as np\n",
        "from os import listdir\n",
        "from os.path import isfile, join\n",
        "from PIL import Image\n",
        "#from skimage import io\n",
        "\n",
        "class CustomDataset(Dataset):\n",
        "    \"\"\"Face Landmarks dataset.\"\"\"\n",
        "\n",
        "    def __init__(self, root_dir, transform=None):\n",
        "        \"\"\"\n",
        "        Args:\n",
        "            root_dir (string): Directory with all the images.\n",
        "            transform (callable, optional): Optional transform to be applied\n",
        "                on a sample.\n",
        "        \"\"\"\n",
        "        self.root_dir = root_dir\n",
        "        self.transform = transform\n",
        "        normal_names = [\"NORMAL/\" + f for f in listdir(join(root_dir, \"NORMAL\")) if isfile(join(root_dir, \"NORMAL\", f))]\n",
        "        labels_normal = [0]*len(normal_names)\n",
        "        pneumonia_names = [\"PNEUMONIA/\" + f for f in listdir(join(root_dir, \"PNEUMONIA\")) if isfile(join(root_dir, \"PNEUMONIA\", f))]\n",
        "        labels_pneumonia = [1]*len(pneumonia_names)\n",
        "        self.labels = labels_normal\n",
        "        self.labels.extend(labels_pneumonia)\n",
        "        self.labels = np.asarray(self.labels, dtype=np.float32)\n",
        "        # labelling done\n",
        "\n",
        "        self.filenames = normal_names\n",
        "        self.filenames.extend(pneumonia_names)\n",
        "\n",
        "        \n",
        "\n",
        "    def __len__(self):\n",
        "        return len(self.filenames)\n",
        "\n",
        "    def __getitem__(self, idx):\n",
        "        if torch.is_tensor(idx):\n",
        "            idx = idx.tolist()\n",
        "\n",
        "        img_name = os.path.join(self.root_dir,\n",
        "                                self.filenames[idx])\n",
        "        image = Image.open(img_name).convert(\"RGB\")\n",
        "        #print(image.shape)\n",
        "        label = torch.Tensor([self.labels[idx]])\n",
        "        sample = {\"image\": image, \"label\": label}\n",
        "\n",
        "        if self.transform:\n",
        "            sample = self.transform(sample)\n",
        "\n",
        "        return sample"
      ]
    },
    {
      "cell_type": "code",
      "execution_count": 8,
      "metadata": {
        "id": "TK6DTEDJZp5o"
      },
      "outputs": [],
      "source": [
        "train_data = CustomDataset(train_path, transform=custom_transform)\n",
        "val_data = CustomDataset(validation_path, transform=custom_transform)\n",
        "test_data = CustomDataset(test_path, transform=custom_transform)\n",
        "\n"
      ]
    },
    {
      "cell_type": "markdown",
      "metadata": {
        "id": "6IHAlGciVQOk"
      },
      "source": [
        "We load the data:"
      ]
    },
    {
      "cell_type": "code",
      "execution_count": 9,
      "metadata": {
        "id": "cAnyZp2hZQtb"
      },
      "outputs": [],
      "source": [
        "import torchvision\n",
        "batch_size = 32\n",
        "train_loader = torch.utils.data.DataLoader(train_data, batch_size=batch_size, shuffle=True, num_workers=2)\n",
        "val_loader = torch.utils.data.DataLoader(val_data, batch_size=batch_size, shuffle=True, num_workers=2)\n",
        "test_loader = torch.utils.data.DataLoader(test_data, batch_size=batch_size, shuffle=False, num_workers=2)"
      ]
    },
    {
      "cell_type": "code",
      "execution_count": 10,
      "metadata": {
        "id": "L-JTIqhoj3cQ",
        "colab": {
          "base_uri": "https://localhost:8080/"
        },
        "outputId": "43961bce-7053-4015-ee9e-e4fedf3d0a96"
      },
      "outputs": [
        {
          "output_type": "stream",
          "name": "stdout",
          "text": [
            "Number of images for training:  5216\n",
            "Number of images for testing:  624\n",
            "Number of images for validation:  16\n"
          ]
        }
      ],
      "source": [
        "# Check number of images \n",
        "print('Number of images for training: ', len(train_data))\n",
        "print('Number of images for testing: ', len(test_data))\n",
        "print('Number of images for validation: ', len(val_data))"
      ]
    },
    {
      "cell_type": "markdown",
      "metadata": {
        "id": "jhKTv9rSVAM1"
      },
      "source": [
        "## 5. NEURAL NETWORK ESTRUCTURE"
      ]
    },
    {
      "cell_type": "markdown",
      "metadata": {
        "id": "YO_A7Wg-yxc9"
      },
      "source": [
        "### INTEGRATED STACKING NETWORK"
      ]
    },
    {
      "cell_type": "code",
      "execution_count": 21,
      "metadata": {
        "id": "-L-V90UVxjby"
      },
      "outputs": [],
      "source": [
        "# import necesary libraries and modules\n",
        "from __future__ import print_function\n",
        "import os\n",
        "import argparse\n",
        "\n",
        "from bigdl.orca import init_orca_context, stop_orca_context\n",
        "from bigdl.orca import OrcaContext"
      ]
    },
    {
      "cell_type": "code",
      "execution_count": 22,
      "metadata": {
        "id": "FT2xsXpdQ9LU",
        "colab": {
          "base_uri": "https://localhost:8080/"
        },
        "outputId": "091711a8-84e8-4f9d-c3b5-3778baf1038e"
      },
      "outputs": [
        {
          "output_type": "stream",
          "name": "stdout",
          "text": [
            "Initializing orca context\n",
            "Current pyspark location is : /usr/local/lib/python3.7/site-packages/pyspark/__init__.py\n",
            "Start to getOrCreate SparkContext\n",
            "pyspark_submit_args is:  --driver-class-path /usr/local/lib/python3.7/site-packages/bigdl/share/dllib/lib/bigdl-dllib-spark_2.4.6-0.14.0-SNAPSHOT-jar-with-dependencies.jar:/usr/local/lib/python3.7/site-packages/bigdl/share/orca/lib/bigdl-orca-spark_2.4.6-0.14.0-SNAPSHOT-jar-with-dependencies.jar pyspark-shell \n",
            "2022-02-05 23:02:27 WARN  NativeCodeLoader:62 - Unable to load native-hadoop library for your platform... using builtin-java classes where applicable\n"
          ]
        },
        {
          "output_type": "stream",
          "name": "stderr",
          "text": [
            "Setting default log level to \"WARN\".\n",
            "To adjust logging level use sc.setLogLevel(newLevel). For SparkR, use setLogLevel(newLevel).\n"
          ]
        },
        {
          "output_type": "stream",
          "name": "stdout",
          "text": [
            "2022-02-05 23:02:31,322 Thread-4 WARN The bufferSize is set to 4000 but bufferedIo is false: false\n",
            "2022-02-05 23:02:31,333 Thread-4 WARN The bufferSize is set to 4000 but bufferedIo is false: false\n",
            "2022-02-05 23:02:31,335 Thread-4 WARN The bufferSize is set to 4000 but bufferedIo is false: false\n",
            "2022-02-05 23:02:31,336 Thread-4 WARN The bufferSize is set to 4000 but bufferedIo is false: false\n",
            "22-02-05 23:02:31 [Thread-4] INFO  Engine$:121 - Auto detect executor number and executor cores number\n",
            "22-02-05 23:02:31 [Thread-4] INFO  Engine$:123 - Executor number is 1 and executor cores number is 3\n",
            "22-02-05 23:02:32 [Thread-4] INFO  ThreadPool$:95 - Set mkl threads to 1 on thread 14\n",
            "2022-02-05 23:02:32 WARN  SparkContext:66 - Using an existing SparkContext; some configuration may not take effect.\n",
            "22-02-05 23:02:32 [Thread-4] INFO  Engine$:446 - Find existing spark context. Checking the spark conf...\n",
            "cls.getname: com.intel.analytics.bigdl.dllib.utils.python.api.Sample\n",
            "BigDLBasePickler registering: bigdl.dllib.utils.common  Sample\n",
            "cls.getname: com.intel.analytics.bigdl.dllib.utils.python.api.EvaluatedResult\n",
            "BigDLBasePickler registering: bigdl.dllib.utils.common  EvaluatedResult\n",
            "cls.getname: com.intel.analytics.bigdl.dllib.utils.python.api.JTensor\n",
            "BigDLBasePickler registering: bigdl.dllib.utils.common  JTensor\n",
            "cls.getname: com.intel.analytics.bigdl.dllib.utils.python.api.JActivity\n",
            "BigDLBasePickler registering: bigdl.dllib.utils.common  JActivity\n",
            "Successfully got a SparkContext\n"
          ]
        },
        {
          "output_type": "stream",
          "name": "stderr",
          "text": [
            "\n",
            "User settings:\n",
            "\n",
            "   KMP_AFFINITY=granularity=fine,compact,1,0\n",
            "   KMP_BLOCKTIME=0\n",
            "   KMP_SETTINGS=1\n",
            "   OMP_NUM_THREADS=1\n",
            "\n",
            "Effective settings:\n",
            "\n",
            "   KMP_ABORT_DELAY=0\n",
            "   KMP_ADAPTIVE_LOCK_PROPS='1,1024'\n",
            "   KMP_ALIGN_ALLOC=64\n",
            "   KMP_ALL_THREADPRIVATE=128\n",
            "   KMP_ATOMIC_MODE=2\n",
            "   KMP_BLOCKTIME=0\n",
            "   KMP_CPUINFO_FILE: value is not defined\n",
            "   KMP_DETERMINISTIC_REDUCTION=false\n",
            "   KMP_DEVICE_THREAD_LIMIT=2147483647\n",
            "   KMP_DISP_HAND_THREAD=false\n",
            "   KMP_DISP_NUM_BUFFERS=7\n",
            "   KMP_DUPLICATE_LIB_OK=false\n",
            "   KMP_FORCE_REDUCTION: value is not defined\n",
            "   KMP_FOREIGN_THREADS_THREADPRIVATE=true\n",
            "   KMP_FORKJOIN_BARRIER='2,2'\n",
            "   KMP_FORKJOIN_BARRIER_PATTERN='hyper,hyper'\n",
            "   KMP_FORKJOIN_FRAMES=true\n",
            "   KMP_FORKJOIN_FRAMES_MODE=3\n",
            "   KMP_GTID_MODE=3\n",
            "   KMP_HANDLE_SIGNALS=false\n",
            "   KMP_HOT_TEAMS_MAX_LEVEL=1\n",
            "   KMP_HOT_TEAMS_MODE=0\n",
            "   KMP_INIT_AT_FORK=true\n",
            "   KMP_ITT_PREPARE_DELAY=0\n",
            "   KMP_LIBRARY=throughput\n",
            "   KMP_LOCK_KIND=queuing\n",
            "   KMP_MALLOC_POOL_INCR=1M\n",
            "   KMP_MWAIT_HINTS=0\n",
            "   KMP_NUM_LOCKS_IN_BLOCK=1\n",
            "   KMP_PLAIN_BARRIER='2,2'\n",
            "   KMP_PLAIN_BARRIER_PATTERN='hyper,hyper'\n",
            "   KMP_REDUCTION_BARRIER='1,1'\n",
            "   KMP_REDUCTION_BARRIER_PATTERN='hyper,hyper'\n",
            "   KMP_SCHEDULE='static,balanced;guided,iterative'\n",
            "   KMP_SETTINGS=true\n",
            "   KMP_SPIN_BACKOFF_PARAMS='4096,100'\n",
            "   KMP_STACKOFFSET=64\n",
            "   KMP_STACKPAD=0\n",
            "   KMP_STACKSIZE=8M\n",
            "   KMP_STORAGE_MAP=false\n",
            "   KMP_TASKING=2\n",
            "   KMP_TASKLOOP_MIN_TASKS=0\n",
            "   KMP_TASK_STEALING_CONSTRAINT=1\n",
            "   KMP_TEAMS_THREAD_LIMIT=2\n",
            "   KMP_TOPOLOGY_METHOD=all\n",
            "   KMP_USER_LEVEL_MWAIT=false\n",
            "   KMP_USE_YIELD=1\n",
            "   KMP_VERSION=false\n",
            "   KMP_WARNINGS=true\n",
            "   OMP_AFFINITY_FORMAT='OMP: pid %P tid %i thread %n bound to OS proc set {%A}'\n",
            "   OMP_ALLOCATOR=omp_default_mem_alloc\n",
            "   OMP_CANCELLATION=false\n",
            "   OMP_DEBUG=disabled\n",
            "   OMP_DEFAULT_DEVICE=0\n",
            "   OMP_DISPLAY_AFFINITY=false\n",
            "   OMP_DISPLAY_ENV=false\n",
            "   OMP_DYNAMIC=false\n",
            "   OMP_MAX_ACTIVE_LEVELS=2147483647\n",
            "   OMP_MAX_TASK_PRIORITY=0\n",
            "   OMP_NESTED=false\n",
            "   OMP_NUM_THREADS='1'\n",
            "   OMP_PLACES: value is not defined\n",
            "   OMP_PROC_BIND='intel'\n",
            "   OMP_SCHEDULE='static'\n",
            "   OMP_STACKSIZE=8M\n",
            "   OMP_TARGET_OFFLOAD=DEFAULT\n",
            "   OMP_THREAD_LIMIT=2147483647\n",
            "   OMP_TOOL=enabled\n",
            "   OMP_TOOL_LIBRARIES: value is not defined\n",
            "   OMP_WAIT_POLICY=PASSIVE\n",
            "   KMP_AFFINITY='noverbose,warnings,respect,granularity=fine,compact,1,0'\n",
            "\n"
          ]
        }
      ],
      "source": [
        "# recommended to set it to True when running BigDL in Jupyter notebook. \n",
        "OrcaContext.log_output = True # (this will display terminal's stdout and stderr in the Jupyter notebook).\n",
        "\n",
        "cluster_mode = \"local\"\n",
        "\n",
        "if cluster_mode == \"local\":\n",
        "    init_orca_context(cores=3, memory=\"8g\") # run in local mode\n",
        "elif cluster_mode == \"k8s\":\n",
        "    init_orca_context(cluster_mode=\"k8s\", num_nodes=2, cores=4) # run on K8s cluster\n",
        "elif cluster_mode == \"yarn\":\n",
        "    init_orca_context(\n",
        "        cluster_mode=\"yarn-client\", cores=4, num_nodes=2, memory=\"2g\",\n",
        "        driver_memory=\"10g\", driver_cores=1,\n",
        "        conf={\"spark.rpc.message.maxSize\": \"1024\",\n",
        "              \"spark.task.maxFailures\": \"1\",\n",
        "              \"spark.driver.extraJavaOptions\": \"-Dbigdl.failure.retryTimes=1\"}) # run on Hadoop YARN cluster"
      ]
    },
    {
      "cell_type": "code",
      "execution_count": 23,
      "metadata": {
        "id": "4Q7RETg5MtpR",
        "colab": {
          "base_uri": "https://localhost:8080/"
        },
        "outputId": "79fc240b-7f03-43f8-86b2-d2d347644956"
      },
      "outputs": [
        {
          "output_type": "stream",
          "name": "stdout",
          "text": [
            "torch.Size([8, 32])\n",
            "torch.Size([8, 96])\n"
          ]
        }
      ],
      "source": [
        "# check that stacking works as expected\n",
        "a = torch.rand(size=(8, 32))\n",
        "b = torch.rand(size=(8, 32))\n",
        "c = torch.rand(size=(8, 32))\n",
        "print(a.shape)\n",
        "d = torch.cat((a, b, c), axis=-1)\n",
        "print(d.shape)"
      ]
    },
    {
      "cell_type": "markdown",
      "metadata": {
        "id": "uSWWJQsnT5_r"
      },
      "source": [
        "At the end the stacking of the 5 neural networks because a problem of the memory ram (12 gb in google collab free) and the resources of the paper are bigger than the one we have. \n",
        "It is just not possible define the same neural network they did because the session crush due to the limit of the ram, but we define the code and check that the network works anyways: \n",
        "\n",
        "```\n",
        "# Define the network\n",
        "class IntegratedNet(nn.Module):\n",
        "  def __init__(self):\n",
        "    super(IntegratedNet, self).__init__()\n",
        "\n",
        "    self.resnet18 = models.resnet18(pretrained=True)\n",
        "    self.resnet18.fc = nn.Linear(512, 32)\n",
        "\n",
        "    self.densenet = models.densenet161(pretrained=True)\n",
        "    self.densenet.classifier = nn.Linear(2208, 32)\n",
        "\n",
        "    self.inception = models.inception_v3(pretrained=True)\n",
        "    self.inception.fc = nn.Linear(2048, 32)\n",
        "    \n",
        "    self.mnasnet = models.mnasnet1_0(pretrained=True)\n",
        "    self.mnasnet.classifier = nn.Sequential(nn.Dropout(0.2, inplace=True),\n",
        "                                            nn.Linear(1280, 32))\n",
        "\n",
        "    self.mobilenet_v2 = models.mobilenet_v2(pretrained=True)\n",
        "    self.mobilenet_v2.classifier = nn.Sequential(nn.Dropout(0.2), nn.Linear(1280, 32))\n",
        "    \n",
        "\n",
        "    self.fc_out = nn.Linear(2*32, 1)  # for binary classification, use single output\n",
        "\n",
        "  def forward(self, x):\n",
        "    x_res = self.resnet18(x)\n",
        "    x_dense = self.densenet(x.detach())\n",
        "    x_inception = self.inception(x)[0]\n",
        "    x_mnas = self.mnasnet(x)\n",
        "    x_mobilenet = self.mobilenet_v2(x)\n",
        "    \n",
        "    #Concatenate the outputs\n",
        "    x = torch.cat((x_res, x_dense, x_inception, x_mnas, x_mobilenet), axis=-1)\n",
        "    x = self.fc_out(x)\n",
        "    return x\n",
        "\n",
        "\n",
        "\n",
        "```\n",
        "But with the actual resources we cannot use it, we define therefore another \n",
        "neural network stacking two models instead. Which is what google collab can handle. "
      ]
    },
    {
      "cell_type": "code",
      "execution_count": 24,
      "metadata": {
        "id": "fnFQIiyO2DZb"
      },
      "outputs": [],
      "source": [
        "# Define the network\n",
        "class IntegratedNet(nn.Module):\n",
        "  def __init__(self):\n",
        "    super(IntegratedNet, self).__init__()\n",
        "\n",
        "    self.resnet18 = models.resnet18(pretrained=True)\n",
        "    self.resnet18.fc = nn.Linear(512, 32)\n",
        "\n",
        "    #self.densenet = models.densenet161(pretrained=True)\n",
        "    #self.densenet.classifier = nn.Linear(2208, 32)\n",
        "\n",
        "    #self.inception = models.inception_v3(pretrained=True)\n",
        "    #self.inception.fc = nn.Linear(2048, 32)\n",
        "    \n",
        "    self.mnasnet = models.mnasnet1_0(pretrained=True)\n",
        "    self.mnasnet.classifier = nn.Sequential(nn.Dropout(0.2, inplace=True),\n",
        "                                            nn.Linear(1280, 32))\n",
        "\n",
        "    #self.mobilenet_v2 = models.mobilenet_v2(pretrained=True)\n",
        "    #self.mobilenet_v2.classifier = nn.Sequential(nn.Dropout(0.2), nn.Linear(1280, 32))\n",
        "    \n",
        "\n",
        "    self.fc_out = nn.Linear(2*32, 1)  # for binary classification, use single output\n",
        "\n",
        "  def forward(self, x):\n",
        "    x_res = self.resnet18(x)\n",
        "    #x_dense = self.densenet(x.detach())\n",
        "    #x_inception = self.inception(x)[0]\n",
        "    x_mnas = self.mnasnet(x)\n",
        "    #x_mobilenet = self.mobilenet_v2(x)\n",
        "    #x_mobilenet = self.mobilenet_v2(x.detach())\n",
        "    \n",
        "    #Concatenate the outputs\n",
        "    #x = torch.cat((x_res, x_dense, x_inception, x_mnas, x_mobilenet), axis=-1)\n",
        "    x = torch.cat((x_res, x_mnas), axis=-1)\n",
        "    x = self.fc_out(x)\n",
        "    return x"
      ]
    },
    {
      "cell_type": "code",
      "execution_count": 25,
      "metadata": {
        "id": "byGhyoAmYgo9",
        "colab": {
          "base_uri": "https://localhost:8080/",
          "height": 135,
          "referenced_widgets": [
            "08d32586ec374ad69e15f7eaf4baaa79",
            "88614c8b569f40548431191bd7090c5b",
            "24dcaf6cf7b24e6cba466959248bfc17",
            "ba4ca1dc1a254497858f6482b350cbcb",
            "1d4e4c7cf5c541f999dabe20f8fb3eb1",
            "b2ef1b1994f8484fb74fad7da164adf2",
            "b6d3819a50ab44e49084bc7fa070aa91",
            "74ec4da3b4e24e98acf3ac3bcca9340b",
            "7eb6395a488c4d8cb237037169f42ac7",
            "7a3396c9042b4a8286acb66ea1752972",
            "f943d87116d2424983e1579b3f980889",
            "19090339d9ba45828f5634708e7ff7c9",
            "f8f791c6a3bf41f08fc2393727e86cd9",
            "d3f4a5fbe50641d48fea0ee0c1cfa0c8",
            "fd3a0edcaa454186a6f5bfa4b609437b",
            "84bcd1562d3f49d49fa4708d317efdea",
            "c042da9657954a46aaa1e54ce056d8a2",
            "002d296ac1944726a7a74fdee57b01ba",
            "64e5279ff0244fa1aacacdc3da808838",
            "5d208db0a26f474888ea376ba54549e4",
            "d583797764b9449c80ce02b94002fe27",
            "fac642abe3594ff989e1eb291ef2498c"
          ]
        },
        "outputId": "f9502550-eb14-4cc9-b41c-28c5d1d8976d"
      },
      "outputs": [
        {
          "output_type": "stream",
          "name": "stderr",
          "text": [
            "Downloading: \"https://download.pytorch.org/models/resnet18-f37072fd.pth\" to /root/.cache/torch/hub/checkpoints/resnet18-f37072fd.pth\n"
          ]
        },
        {
          "output_type": "display_data",
          "data": {
            "application/vnd.jupyter.widget-view+json": {
              "model_id": "08d32586ec374ad69e15f7eaf4baaa79",
              "version_minor": 0,
              "version_major": 2
            },
            "text/plain": [
              "  0%|          | 0.00/44.7M [00:00<?, ?B/s]"
            ]
          },
          "metadata": {}
        },
        {
          "output_type": "stream",
          "name": "stderr",
          "text": [
            "Downloading: \"https://download.pytorch.org/models/mnasnet1.0_top1_73.512-f206786ef8.pth\" to /root/.cache/torch/hub/checkpoints/mnasnet1.0_top1_73.512-f206786ef8.pth\n"
          ]
        },
        {
          "output_type": "display_data",
          "data": {
            "application/vnd.jupyter.widget-view+json": {
              "model_id": "19090339d9ba45828f5634708e7ff7c9",
              "version_minor": 0,
              "version_major": 2
            },
            "text/plain": [
              "  0%|          | 0.00/16.9M [00:00<?, ?B/s]"
            ]
          },
          "metadata": {}
        }
      ],
      "source": [
        "net = IntegratedNet()\n",
        "optimizer = optim.Adam(net.parameters(), lr=0.001)\n"
      ]
    },
    {
      "cell_type": "code",
      "execution_count": 26,
      "metadata": {
        "id": "ovlS3kspYs0t"
      },
      "outputs": [],
      "source": [
        "# training loss vs. epochs\n",
        "criterion = nn.BCEWithLogitsLoss()\n",
        "batch_size = 32\n",
        "epochs = 1"
      ]
    },
    {
      "cell_type": "code",
      "execution_count": 27,
      "metadata": {
        "id": "Eafs_Z6Skbuw",
        "colab": {
          "base_uri": "https://localhost:8080/"
        },
        "outputId": "61b8d491-f1be-4db9-d04a-6f349bd82b5d"
      },
      "outputs": [
        {
          "output_type": "stream",
          "name": "stdout",
          "text": [
            "creating: createTorchLoss\n",
            "creating: createTorchOptim\n",
            "creating: createZooKerasAccuracy\n",
            "creating: createEstimator\n"
          ]
        }
      ],
      "source": [
        "from bigdl.orca.learn.pytorch import Estimator \n",
        "from bigdl.orca.learn.metrics import Accuracy \n",
        "\n",
        "est = Estimator.from_torch(model=net, optimizer=optimizer, loss=criterion, metrics=[Accuracy()])"
      ]
    },
    {
      "cell_type": "code",
      "execution_count": null,
      "metadata": {
        "id": "Xs-fGGn7qQq1",
        "colab": {
          "base_uri": "https://localhost:8080/"
        },
        "outputId": "8dbc6bdb-59a0-4399-8920-fe67effd2e2d"
      },
      "outputs": [
        {
          "output_type": "stream",
          "name": "stdout",
          "text": [
            "creating: createEveryEpoch\n",
            "creating: createMaxEpoch\n"
          ]
        },
        {
          "output_type": "stream",
          "name": "stderr",
          "text": [
            ""
          ]
        },
        {
          "output_type": "stream",
          "name": "stdout",
          "text": [
            "22-02-05 23:03:42 [Thread-4] INFO  InternalDistriOptimizer$:938 - TorchModel[effe80f6] isTorch is true\n",
            "22-02-05 23:03:42 [Thread-4] INFO  InternalDistriOptimizer$:944 - torch model will use 1 OMP threads.\n",
            "22-02-05 23:03:42 [Thread-4] INFO  DistriOptimizer$:826 - caching training rdd ...\n"
          ]
        },
        {
          "output_type": "stream",
          "name": "stderr",
          "text": [
            ""
          ]
        },
        {
          "output_type": "stream",
          "name": "stdout",
          "text": [
            "22-02-05 23:04:18 [Thread-4] INFO  DistriOptimizer$:652 - Cache thread models...\n",
            "22-02-05 23:04:18 [Executor task launch worker for task 5] INFO  ThreadPool$:95 - Set mkl threads to 1 on thread 52\n",
            "22-02-05 23:04:18 [Executor task launch worker for task 5] INFO  ThreadPool$:95 - Set mkl threads to 1 on thread 52\n"
          ]
        },
        {
          "output_type": "stream",
          "name": "stderr",
          "text": [
            "\r[Stage 5:>                                                          (0 + 1) / 1]"
          ]
        },
        {
          "output_type": "stream",
          "name": "stdout",
          "text": [
            "22-02-05 23:04:19 [Executor task launch worker for task 5] INFO  DistriOptimizer$:635 - model thread pool size is 1\n",
            "2022-02-05 23:04:19 WARN  BlockManager:66 - Asked to remove block test_0weights0, which does not exist\n",
            "2022-02-05 23:04:19 WARN  BlockManager:66 - Asked to remove block test_0gradients0, which does not exist\n"
          ]
        },
        {
          "output_type": "stream",
          "name": "stderr",
          "text": [
            "\r                                                                                \r"
          ]
        },
        {
          "output_type": "stream",
          "name": "stdout",
          "text": [
            "22-02-05 23:04:19 [Thread-4] INFO  DistriOptimizer$:654 - Cache thread models... done\n",
            "22-02-05 23:04:19 [Thread-4] INFO  DistriOptimizer$:164 - Count dataset\n"
          ]
        },
        {
          "output_type": "stream",
          "name": "stderr",
          "text": [
            ""
          ]
        },
        {
          "output_type": "stream",
          "name": "stdout",
          "text": [
            "22-02-05 23:33:28 [Thread-4] INFO  DistriOptimizer$:168 - Count dataset complete. Time elapsed: 1748.84413558s\n"
          ]
        },
        {
          "output_type": "stream",
          "name": "stderr",
          "text": [
            ""
          ]
        },
        {
          "output_type": "stream",
          "name": "stdout",
          "text": [
            "22-02-05 23:35:21 [Thread-4] WARN  DistriOptimizer$:170 - If the dataset is built directly from RDD[Minibatch], the data in each minibatch is fixed, and a single minibatch is randomly selected in each partition. If the dataset is transformed from RDD[Sample], each minibatch will be constructed on the fly from random samples, which is better for convergence.\n",
            "22-02-05 23:35:21 [Thread-4] INFO  DistriOptimizer$:176 - config  {\n",
            "\tcomputeThresholdbatchSize: 100\n",
            "\tmaxDropPercentage: 0.0\n",
            "\twarmupIterationNum: 200\n",
            "\tisLayerwiseScaled: false\n",
            "\tdropPercentage: 0.0\n",
            " }\n",
            "22-02-05 23:35:21 [Thread-4] INFO  DistriOptimizer$:180 - Shuffle data\n",
            "22-02-05 23:35:21 [Thread-4] INFO  DistriOptimizer$:183 - Shuffle data complete. Takes 3.57037E-4s\n"
          ]
        },
        {
          "output_type": "stream",
          "name": "stderr",
          "text": [
            ""
          ]
        },
        {
          "output_type": "stream",
          "name": "stdout",
          "text": [
            "22-02-05 23:36:11 [Thread-4] INFO  DistriOptimizer$:430 - [Epoch 1 32/5216][Iteration 1][Wall Clock 44.282236319s] Trained 32.0 records in 44.282236319 seconds. Throughput is 0.72263736 records/second. Loss is 0.59350896. \n"
          ]
        },
        {
          "output_type": "stream",
          "name": "stderr",
          "text": [
            ""
          ]
        },
        {
          "output_type": "stream",
          "name": "stdout",
          "text": [
            "22-02-05 23:36:44 [Thread-4] INFO  DistriOptimizer$:430 - [Epoch 1 64/5216][Iteration 2][Wall Clock 76.783163133s] Trained 32.0 records in 32.500926814 seconds. Throughput is 0.9845873 records/second. Loss is 0.33242288. \n"
          ]
        },
        {
          "output_type": "stream",
          "name": "stderr",
          "text": [
            ""
          ]
        },
        {
          "output_type": "stream",
          "name": "stdout",
          "text": [
            "22-02-05 23:37:11 [Thread-4] INFO  DistriOptimizer$:430 - [Epoch 1 96/5216][Iteration 3][Wall Clock 104.409761124s] Trained 32.0 records in 27.626597991 seconds. Throughput is 1.158304 records/second. Loss is 0.5637668. \n"
          ]
        },
        {
          "output_type": "stream",
          "name": "stderr",
          "text": [
            "\r[Stage 14:>                                                         (0 + 1) / 1]"
          ]
        }
      ],
      "source": [
        "from bigdl.orca.learn.trigger import EveryEpoch \n",
        "\n",
        "est.fit(data=train_loader, epochs=1, validation_data=test_loader,\n",
        "        checkpoint_trigger=EveryEpoch())"
      ]
    },
    {
      "cell_type": "code",
      "execution_count": null,
      "metadata": {
        "id": "Gd2DejdHqUOx"
      },
      "outputs": [],
      "source": [
        "result = est.evaluate(data=test_loader)\n",
        "for r in result:\n",
        "    print(r, \":\", result[r])"
      ]
    },
    {
      "cell_type": "code",
      "execution_count": null,
      "metadata": {
        "id": "XYMbDnJmqWRK"
      },
      "outputs": [],
      "source": [
        "# stop orca context when program finishes\n",
        "stop_orca_context()"
      ]
    },
    {
      "cell_type": "markdown",
      "metadata": {
        "id": "FVLTncGkVGmi"
      },
      "source": [
        "## 6. VALIDATION OF THE MODEL"
      ]
    },
    {
      "cell_type": "markdown",
      "metadata": {
        "id": "kVGErW_2pmWq"
      },
      "source": [
        "Here do the visualization of the loss, accuracy, visualize the model graph, the roc curve, the histograms and the confussion matrix."
      ]
    },
    {
      "cell_type": "markdown",
      "metadata": {
        "id": "q931J-RrVPX3"
      },
      "source": [
        "## 7. CONCLUSION"
      ]
    },
    {
      "cell_type": "markdown",
      "metadata": {
        "id": "CfAjr0TWVUDS"
      },
      "source": [
        "## 8. REFERENCES"
      ]
    },
    {
      "cell_type": "markdown",
      "metadata": {
        "id": "9xldlMPoWGHp"
      },
      "source": [
        "HERE PUT WITH CORRECT APA THE CITATIONS OF THE INTRODUCTION"
      ]
    }
  ],
  "metadata": {
    "colab": {
      "collapsed_sections": [],
      "name": "project_big_data.ipynb",
      "provenance": [],
      "include_colab_link": true
    },
    "kernelspec": {
      "display_name": "Python 3",
      "name": "python3"
    },
    "language_info": {
      "name": "python"
    },
    "widgets": {
      "application/vnd.jupyter.widget-state+json": {
        "08d32586ec374ad69e15f7eaf4baaa79": {
          "model_module": "@jupyter-widgets/controls",
          "model_name": "HBoxModel",
          "model_module_version": "1.5.0",
          "state": {
            "_view_name": "HBoxView",
            "_dom_classes": [],
            "_model_name": "HBoxModel",
            "_view_module": "@jupyter-widgets/controls",
            "_model_module_version": "1.5.0",
            "_view_count": null,
            "_view_module_version": "1.5.0",
            "box_style": "",
            "layout": "IPY_MODEL_88614c8b569f40548431191bd7090c5b",
            "_model_module": "@jupyter-widgets/controls",
            "children": [
              "IPY_MODEL_24dcaf6cf7b24e6cba466959248bfc17",
              "IPY_MODEL_ba4ca1dc1a254497858f6482b350cbcb",
              "IPY_MODEL_1d4e4c7cf5c541f999dabe20f8fb3eb1"
            ]
          }
        },
        "88614c8b569f40548431191bd7090c5b": {
          "model_module": "@jupyter-widgets/base",
          "model_name": "LayoutModel",
          "model_module_version": "1.2.0",
          "state": {
            "_view_name": "LayoutView",
            "grid_template_rows": null,
            "right": null,
            "justify_content": null,
            "_view_module": "@jupyter-widgets/base",
            "overflow": null,
            "_model_module_version": "1.2.0",
            "_view_count": null,
            "flex_flow": null,
            "width": null,
            "min_width": null,
            "border": null,
            "align_items": null,
            "bottom": null,
            "_model_module": "@jupyter-widgets/base",
            "top": null,
            "grid_column": null,
            "overflow_y": null,
            "overflow_x": null,
            "grid_auto_flow": null,
            "grid_area": null,
            "grid_template_columns": null,
            "flex": null,
            "_model_name": "LayoutModel",
            "justify_items": null,
            "grid_row": null,
            "max_height": null,
            "align_content": null,
            "visibility": null,
            "align_self": null,
            "height": null,
            "min_height": null,
            "padding": null,
            "grid_auto_rows": null,
            "grid_gap": null,
            "max_width": null,
            "order": null,
            "_view_module_version": "1.2.0",
            "grid_template_areas": null,
            "object_position": null,
            "object_fit": null,
            "grid_auto_columns": null,
            "margin": null,
            "display": null,
            "left": null
          }
        },
        "24dcaf6cf7b24e6cba466959248bfc17": {
          "model_module": "@jupyter-widgets/controls",
          "model_name": "HTMLModel",
          "model_module_version": "1.5.0",
          "state": {
            "_view_name": "HTMLView",
            "style": "IPY_MODEL_b2ef1b1994f8484fb74fad7da164adf2",
            "_dom_classes": [],
            "description": "",
            "_model_name": "HTMLModel",
            "placeholder": "​",
            "_view_module": "@jupyter-widgets/controls",
            "_model_module_version": "1.5.0",
            "value": "100%",
            "_view_count": null,
            "_view_module_version": "1.5.0",
            "description_tooltip": null,
            "_model_module": "@jupyter-widgets/controls",
            "layout": "IPY_MODEL_b6d3819a50ab44e49084bc7fa070aa91"
          }
        },
        "ba4ca1dc1a254497858f6482b350cbcb": {
          "model_module": "@jupyter-widgets/controls",
          "model_name": "FloatProgressModel",
          "model_module_version": "1.5.0",
          "state": {
            "_view_name": "ProgressView",
            "style": "IPY_MODEL_74ec4da3b4e24e98acf3ac3bcca9340b",
            "_dom_classes": [],
            "description": "",
            "_model_name": "FloatProgressModel",
            "bar_style": "success",
            "max": 46830571,
            "_view_module": "@jupyter-widgets/controls",
            "_model_module_version": "1.5.0",
            "value": 46830571,
            "_view_count": null,
            "_view_module_version": "1.5.0",
            "orientation": "horizontal",
            "min": 0,
            "description_tooltip": null,
            "_model_module": "@jupyter-widgets/controls",
            "layout": "IPY_MODEL_7eb6395a488c4d8cb237037169f42ac7"
          }
        },
        "1d4e4c7cf5c541f999dabe20f8fb3eb1": {
          "model_module": "@jupyter-widgets/controls",
          "model_name": "HTMLModel",
          "model_module_version": "1.5.0",
          "state": {
            "_view_name": "HTMLView",
            "style": "IPY_MODEL_7a3396c9042b4a8286acb66ea1752972",
            "_dom_classes": [],
            "description": "",
            "_model_name": "HTMLModel",
            "placeholder": "​",
            "_view_module": "@jupyter-widgets/controls",
            "_model_module_version": "1.5.0",
            "value": " 44.7M/44.7M [00:01&lt;00:00, 45.7MB/s]",
            "_view_count": null,
            "_view_module_version": "1.5.0",
            "description_tooltip": null,
            "_model_module": "@jupyter-widgets/controls",
            "layout": "IPY_MODEL_f943d87116d2424983e1579b3f980889"
          }
        },
        "b2ef1b1994f8484fb74fad7da164adf2": {
          "model_module": "@jupyter-widgets/controls",
          "model_name": "DescriptionStyleModel",
          "model_module_version": "1.5.0",
          "state": {
            "_view_name": "StyleView",
            "_model_name": "DescriptionStyleModel",
            "description_width": "",
            "_view_module": "@jupyter-widgets/base",
            "_model_module_version": "1.5.0",
            "_view_count": null,
            "_view_module_version": "1.2.0",
            "_model_module": "@jupyter-widgets/controls"
          }
        },
        "b6d3819a50ab44e49084bc7fa070aa91": {
          "model_module": "@jupyter-widgets/base",
          "model_name": "LayoutModel",
          "model_module_version": "1.2.0",
          "state": {
            "_view_name": "LayoutView",
            "grid_template_rows": null,
            "right": null,
            "justify_content": null,
            "_view_module": "@jupyter-widgets/base",
            "overflow": null,
            "_model_module_version": "1.2.0",
            "_view_count": null,
            "flex_flow": null,
            "width": null,
            "min_width": null,
            "border": null,
            "align_items": null,
            "bottom": null,
            "_model_module": "@jupyter-widgets/base",
            "top": null,
            "grid_column": null,
            "overflow_y": null,
            "overflow_x": null,
            "grid_auto_flow": null,
            "grid_area": null,
            "grid_template_columns": null,
            "flex": null,
            "_model_name": "LayoutModel",
            "justify_items": null,
            "grid_row": null,
            "max_height": null,
            "align_content": null,
            "visibility": null,
            "align_self": null,
            "height": null,
            "min_height": null,
            "padding": null,
            "grid_auto_rows": null,
            "grid_gap": null,
            "max_width": null,
            "order": null,
            "_view_module_version": "1.2.0",
            "grid_template_areas": null,
            "object_position": null,
            "object_fit": null,
            "grid_auto_columns": null,
            "margin": null,
            "display": null,
            "left": null
          }
        },
        "74ec4da3b4e24e98acf3ac3bcca9340b": {
          "model_module": "@jupyter-widgets/controls",
          "model_name": "ProgressStyleModel",
          "model_module_version": "1.5.0",
          "state": {
            "_view_name": "StyleView",
            "_model_name": "ProgressStyleModel",
            "description_width": "",
            "_view_module": "@jupyter-widgets/base",
            "_model_module_version": "1.5.0",
            "_view_count": null,
            "_view_module_version": "1.2.0",
            "bar_color": null,
            "_model_module": "@jupyter-widgets/controls"
          }
        },
        "7eb6395a488c4d8cb237037169f42ac7": {
          "model_module": "@jupyter-widgets/base",
          "model_name": "LayoutModel",
          "model_module_version": "1.2.0",
          "state": {
            "_view_name": "LayoutView",
            "grid_template_rows": null,
            "right": null,
            "justify_content": null,
            "_view_module": "@jupyter-widgets/base",
            "overflow": null,
            "_model_module_version": "1.2.0",
            "_view_count": null,
            "flex_flow": null,
            "width": null,
            "min_width": null,
            "border": null,
            "align_items": null,
            "bottom": null,
            "_model_module": "@jupyter-widgets/base",
            "top": null,
            "grid_column": null,
            "overflow_y": null,
            "overflow_x": null,
            "grid_auto_flow": null,
            "grid_area": null,
            "grid_template_columns": null,
            "flex": null,
            "_model_name": "LayoutModel",
            "justify_items": null,
            "grid_row": null,
            "max_height": null,
            "align_content": null,
            "visibility": null,
            "align_self": null,
            "height": null,
            "min_height": null,
            "padding": null,
            "grid_auto_rows": null,
            "grid_gap": null,
            "max_width": null,
            "order": null,
            "_view_module_version": "1.2.0",
            "grid_template_areas": null,
            "object_position": null,
            "object_fit": null,
            "grid_auto_columns": null,
            "margin": null,
            "display": null,
            "left": null
          }
        },
        "7a3396c9042b4a8286acb66ea1752972": {
          "model_module": "@jupyter-widgets/controls",
          "model_name": "DescriptionStyleModel",
          "model_module_version": "1.5.0",
          "state": {
            "_view_name": "StyleView",
            "_model_name": "DescriptionStyleModel",
            "description_width": "",
            "_view_module": "@jupyter-widgets/base",
            "_model_module_version": "1.5.0",
            "_view_count": null,
            "_view_module_version": "1.2.0",
            "_model_module": "@jupyter-widgets/controls"
          }
        },
        "f943d87116d2424983e1579b3f980889": {
          "model_module": "@jupyter-widgets/base",
          "model_name": "LayoutModel",
          "model_module_version": "1.2.0",
          "state": {
            "_view_name": "LayoutView",
            "grid_template_rows": null,
            "right": null,
            "justify_content": null,
            "_view_module": "@jupyter-widgets/base",
            "overflow": null,
            "_model_module_version": "1.2.0",
            "_view_count": null,
            "flex_flow": null,
            "width": null,
            "min_width": null,
            "border": null,
            "align_items": null,
            "bottom": null,
            "_model_module": "@jupyter-widgets/base",
            "top": null,
            "grid_column": null,
            "overflow_y": null,
            "overflow_x": null,
            "grid_auto_flow": null,
            "grid_area": null,
            "grid_template_columns": null,
            "flex": null,
            "_model_name": "LayoutModel",
            "justify_items": null,
            "grid_row": null,
            "max_height": null,
            "align_content": null,
            "visibility": null,
            "align_self": null,
            "height": null,
            "min_height": null,
            "padding": null,
            "grid_auto_rows": null,
            "grid_gap": null,
            "max_width": null,
            "order": null,
            "_view_module_version": "1.2.0",
            "grid_template_areas": null,
            "object_position": null,
            "object_fit": null,
            "grid_auto_columns": null,
            "margin": null,
            "display": null,
            "left": null
          }
        },
        "19090339d9ba45828f5634708e7ff7c9": {
          "model_module": "@jupyter-widgets/controls",
          "model_name": "HBoxModel",
          "model_module_version": "1.5.0",
          "state": {
            "_view_name": "HBoxView",
            "_dom_classes": [],
            "_model_name": "HBoxModel",
            "_view_module": "@jupyter-widgets/controls",
            "_model_module_version": "1.5.0",
            "_view_count": null,
            "_view_module_version": "1.5.0",
            "box_style": "",
            "layout": "IPY_MODEL_f8f791c6a3bf41f08fc2393727e86cd9",
            "_model_module": "@jupyter-widgets/controls",
            "children": [
              "IPY_MODEL_d3f4a5fbe50641d48fea0ee0c1cfa0c8",
              "IPY_MODEL_fd3a0edcaa454186a6f5bfa4b609437b",
              "IPY_MODEL_84bcd1562d3f49d49fa4708d317efdea"
            ]
          }
        },
        "f8f791c6a3bf41f08fc2393727e86cd9": {
          "model_module": "@jupyter-widgets/base",
          "model_name": "LayoutModel",
          "model_module_version": "1.2.0",
          "state": {
            "_view_name": "LayoutView",
            "grid_template_rows": null,
            "right": null,
            "justify_content": null,
            "_view_module": "@jupyter-widgets/base",
            "overflow": null,
            "_model_module_version": "1.2.0",
            "_view_count": null,
            "flex_flow": null,
            "width": null,
            "min_width": null,
            "border": null,
            "align_items": null,
            "bottom": null,
            "_model_module": "@jupyter-widgets/base",
            "top": null,
            "grid_column": null,
            "overflow_y": null,
            "overflow_x": null,
            "grid_auto_flow": null,
            "grid_area": null,
            "grid_template_columns": null,
            "flex": null,
            "_model_name": "LayoutModel",
            "justify_items": null,
            "grid_row": null,
            "max_height": null,
            "align_content": null,
            "visibility": null,
            "align_self": null,
            "height": null,
            "min_height": null,
            "padding": null,
            "grid_auto_rows": null,
            "grid_gap": null,
            "max_width": null,
            "order": null,
            "_view_module_version": "1.2.0",
            "grid_template_areas": null,
            "object_position": null,
            "object_fit": null,
            "grid_auto_columns": null,
            "margin": null,
            "display": null,
            "left": null
          }
        },
        "d3f4a5fbe50641d48fea0ee0c1cfa0c8": {
          "model_module": "@jupyter-widgets/controls",
          "model_name": "HTMLModel",
          "model_module_version": "1.5.0",
          "state": {
            "_view_name": "HTMLView",
            "style": "IPY_MODEL_c042da9657954a46aaa1e54ce056d8a2",
            "_dom_classes": [],
            "description": "",
            "_model_name": "HTMLModel",
            "placeholder": "​",
            "_view_module": "@jupyter-widgets/controls",
            "_model_module_version": "1.5.0",
            "value": "100%",
            "_view_count": null,
            "_view_module_version": "1.5.0",
            "description_tooltip": null,
            "_model_module": "@jupyter-widgets/controls",
            "layout": "IPY_MODEL_002d296ac1944726a7a74fdee57b01ba"
          }
        },
        "fd3a0edcaa454186a6f5bfa4b609437b": {
          "model_module": "@jupyter-widgets/controls",
          "model_name": "FloatProgressModel",
          "model_module_version": "1.5.0",
          "state": {
            "_view_name": "ProgressView",
            "style": "IPY_MODEL_64e5279ff0244fa1aacacdc3da808838",
            "_dom_classes": [],
            "description": "",
            "_model_name": "FloatProgressModel",
            "bar_style": "success",
            "max": 17736997,
            "_view_module": "@jupyter-widgets/controls",
            "_model_module_version": "1.5.0",
            "value": 17736997,
            "_view_count": null,
            "_view_module_version": "1.5.0",
            "orientation": "horizontal",
            "min": 0,
            "description_tooltip": null,
            "_model_module": "@jupyter-widgets/controls",
            "layout": "IPY_MODEL_5d208db0a26f474888ea376ba54549e4"
          }
        },
        "84bcd1562d3f49d49fa4708d317efdea": {
          "model_module": "@jupyter-widgets/controls",
          "model_name": "HTMLModel",
          "model_module_version": "1.5.0",
          "state": {
            "_view_name": "HTMLView",
            "style": "IPY_MODEL_d583797764b9449c80ce02b94002fe27",
            "_dom_classes": [],
            "description": "",
            "_model_name": "HTMLModel",
            "placeholder": "​",
            "_view_module": "@jupyter-widgets/controls",
            "_model_module_version": "1.5.0",
            "value": " 16.9M/16.9M [00:00&lt;00:00, 54.5MB/s]",
            "_view_count": null,
            "_view_module_version": "1.5.0",
            "description_tooltip": null,
            "_model_module": "@jupyter-widgets/controls",
            "layout": "IPY_MODEL_fac642abe3594ff989e1eb291ef2498c"
          }
        },
        "c042da9657954a46aaa1e54ce056d8a2": {
          "model_module": "@jupyter-widgets/controls",
          "model_name": "DescriptionStyleModel",
          "model_module_version": "1.5.0",
          "state": {
            "_view_name": "StyleView",
            "_model_name": "DescriptionStyleModel",
            "description_width": "",
            "_view_module": "@jupyter-widgets/base",
            "_model_module_version": "1.5.0",
            "_view_count": null,
            "_view_module_version": "1.2.0",
            "_model_module": "@jupyter-widgets/controls"
          }
        },
        "002d296ac1944726a7a74fdee57b01ba": {
          "model_module": "@jupyter-widgets/base",
          "model_name": "LayoutModel",
          "model_module_version": "1.2.0",
          "state": {
            "_view_name": "LayoutView",
            "grid_template_rows": null,
            "right": null,
            "justify_content": null,
            "_view_module": "@jupyter-widgets/base",
            "overflow": null,
            "_model_module_version": "1.2.0",
            "_view_count": null,
            "flex_flow": null,
            "width": null,
            "min_width": null,
            "border": null,
            "align_items": null,
            "bottom": null,
            "_model_module": "@jupyter-widgets/base",
            "top": null,
            "grid_column": null,
            "overflow_y": null,
            "overflow_x": null,
            "grid_auto_flow": null,
            "grid_area": null,
            "grid_template_columns": null,
            "flex": null,
            "_model_name": "LayoutModel",
            "justify_items": null,
            "grid_row": null,
            "max_height": null,
            "align_content": null,
            "visibility": null,
            "align_self": null,
            "height": null,
            "min_height": null,
            "padding": null,
            "grid_auto_rows": null,
            "grid_gap": null,
            "max_width": null,
            "order": null,
            "_view_module_version": "1.2.0",
            "grid_template_areas": null,
            "object_position": null,
            "object_fit": null,
            "grid_auto_columns": null,
            "margin": null,
            "display": null,
            "left": null
          }
        },
        "64e5279ff0244fa1aacacdc3da808838": {
          "model_module": "@jupyter-widgets/controls",
          "model_name": "ProgressStyleModel",
          "model_module_version": "1.5.0",
          "state": {
            "_view_name": "StyleView",
            "_model_name": "ProgressStyleModel",
            "description_width": "",
            "_view_module": "@jupyter-widgets/base",
            "_model_module_version": "1.5.0",
            "_view_count": null,
            "_view_module_version": "1.2.0",
            "bar_color": null,
            "_model_module": "@jupyter-widgets/controls"
          }
        },
        "5d208db0a26f474888ea376ba54549e4": {
          "model_module": "@jupyter-widgets/base",
          "model_name": "LayoutModel",
          "model_module_version": "1.2.0",
          "state": {
            "_view_name": "LayoutView",
            "grid_template_rows": null,
            "right": null,
            "justify_content": null,
            "_view_module": "@jupyter-widgets/base",
            "overflow": null,
            "_model_module_version": "1.2.0",
            "_view_count": null,
            "flex_flow": null,
            "width": null,
            "min_width": null,
            "border": null,
            "align_items": null,
            "bottom": null,
            "_model_module": "@jupyter-widgets/base",
            "top": null,
            "grid_column": null,
            "overflow_y": null,
            "overflow_x": null,
            "grid_auto_flow": null,
            "grid_area": null,
            "grid_template_columns": null,
            "flex": null,
            "_model_name": "LayoutModel",
            "justify_items": null,
            "grid_row": null,
            "max_height": null,
            "align_content": null,
            "visibility": null,
            "align_self": null,
            "height": null,
            "min_height": null,
            "padding": null,
            "grid_auto_rows": null,
            "grid_gap": null,
            "max_width": null,
            "order": null,
            "_view_module_version": "1.2.0",
            "grid_template_areas": null,
            "object_position": null,
            "object_fit": null,
            "grid_auto_columns": null,
            "margin": null,
            "display": null,
            "left": null
          }
        },
        "d583797764b9449c80ce02b94002fe27": {
          "model_module": "@jupyter-widgets/controls",
          "model_name": "DescriptionStyleModel",
          "model_module_version": "1.5.0",
          "state": {
            "_view_name": "StyleView",
            "_model_name": "DescriptionStyleModel",
            "description_width": "",
            "_view_module": "@jupyter-widgets/base",
            "_model_module_version": "1.5.0",
            "_view_count": null,
            "_view_module_version": "1.2.0",
            "_model_module": "@jupyter-widgets/controls"
          }
        },
        "fac642abe3594ff989e1eb291ef2498c": {
          "model_module": "@jupyter-widgets/base",
          "model_name": "LayoutModel",
          "model_module_version": "1.2.0",
          "state": {
            "_view_name": "LayoutView",
            "grid_template_rows": null,
            "right": null,
            "justify_content": null,
            "_view_module": "@jupyter-widgets/base",
            "overflow": null,
            "_model_module_version": "1.2.0",
            "_view_count": null,
            "flex_flow": null,
            "width": null,
            "min_width": null,
            "border": null,
            "align_items": null,
            "bottom": null,
            "_model_module": "@jupyter-widgets/base",
            "top": null,
            "grid_column": null,
            "overflow_y": null,
            "overflow_x": null,
            "grid_auto_flow": null,
            "grid_area": null,
            "grid_template_columns": null,
            "flex": null,
            "_model_name": "LayoutModel",
            "justify_items": null,
            "grid_row": null,
            "max_height": null,
            "align_content": null,
            "visibility": null,
            "align_self": null,
            "height": null,
            "min_height": null,
            "padding": null,
            "grid_auto_rows": null,
            "grid_gap": null,
            "max_width": null,
            "order": null,
            "_view_module_version": "1.2.0",
            "grid_template_areas": null,
            "object_position": null,
            "object_fit": null,
            "grid_auto_columns": null,
            "margin": null,
            "display": null,
            "left": null
          }
        }
      }
    }
  },
  "nbformat": 4,
  "nbformat_minor": 0
}